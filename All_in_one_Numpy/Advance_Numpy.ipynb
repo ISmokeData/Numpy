{
 "cells": [
  {
   "cell_type": "markdown",
   "metadata": {},
   "source": [
    "# **<span style = 'color:green'>Advance NumPy </span>**"
   ]
  },
  {
   "cell_type": "markdown",
   "metadata": {},
   "source": [
    "### **NumPy Array vs Python Lists**"
   ]
  },
  {
   "cell_type": "code",
   "execution_count": 2,
   "metadata": {},
   "outputs": [
    {
     "name": "stdout",
     "output_type": "stream",
     "text": [
      "4.813272714614868\n"
     ]
    }
   ],
   "source": [
    "# execution time using list\n",
    "\n",
    "import time\n",
    "\n",
    "# create list\n",
    "a = [i for i in range(10000000)]\n",
    "b = [i for i in range(10000000, 20000000)]\n",
    "\n",
    "c = []\n",
    "start = time.time() #starting time \n",
    "for i in range(len(a)):\n",
    "    c.append(a[i] + b[i])\n",
    "\n",
    "print(time.time()-start) # time after execution\n"
   ]
  },
  {
   "cell_type": "code",
   "execution_count": 3,
   "metadata": {},
   "outputs": [
    {
     "name": "stdout",
     "output_type": "stream",
     "text": [
      "0.16922950744628906\n"
     ]
    }
   ],
   "source": [
    "# execution time using NumPy\n",
    "\n",
    "import numpy as np\n",
    "\n",
    "# create NumPy Array\n",
    "a = np.arange(10000000)\n",
    "b = np.arange(10000000, 20000000)\n",
    "\n",
    "start = time.time()  # starting time\n",
    "\n",
    "c = a + b\n",
    "\n",
    "print(time.time()-start)  # time after execution\n"
   ]
  },
  {
   "cell_type": "markdown",
   "metadata": {},
   "source": [
    "- Python List execute in 4.81 seconds\n",
    "- NumPy Array execute in 0.16 seconds\n",
    "- Numpy Array is static array and not a refrential array\n",
    "- Python List is dynamical array and refrential array \n",
    "- Numpy Array almost 50 times faster than Python List "
   ]
  },
  {
   "cell_type": "markdown",
   "metadata": {},
   "source": [
    "**<span style = 'color :orange'>Memory comparison (int32) between NumPy Array and Python Array</span>**"
   ]
  },
  {
   "cell_type": "code",
   "execution_count": 4,
   "metadata": {},
   "outputs": [
    {
     "data": {
      "text/plain": [
       "89095160"
      ]
     },
     "execution_count": 4,
     "metadata": {},
     "output_type": "execute_result"
    }
   ],
   "source": [
    "# create list\n",
    "import sys\n",
    "\n",
    "a = [i for i in range(10000000)]\n",
    "\n",
    "sys.getsizeof(a)\n"
   ]
  },
  {
   "cell_type": "code",
   "execution_count": 5,
   "metadata": {},
   "outputs": [
    {
     "data": {
      "text/plain": [
       "40000104"
      ]
     },
     "execution_count": 5,
     "metadata": {},
     "output_type": "execute_result"
    }
   ],
   "source": [
    "# create NumPy Array\n",
    "\n",
    "a = np.arange(10000000)\n",
    "\n",
    "sys.getsizeof(a)\n"
   ]
  },
  {
   "cell_type": "code",
   "execution_count": 6,
   "metadata": {},
   "outputs": [
    {
     "data": {
      "text/plain": [
       "20000104"
      ]
     },
     "execution_count": 6,
     "metadata": {},
     "output_type": "execute_result"
    }
   ],
   "source": [
    "# you can change the memory type in NumPy Array\n",
    "\n",
    "a = np.arange(10000000, dtype=np.int16)\n",
    "\n",
    "sys.getsizeof(a)\n"
   ]
  },
  {
   "cell_type": "markdown",
   "metadata": {},
   "source": [
    "### **<span style = 'color:blue'>Advance Indexing</span>**"
   ]
  },
  {
   "cell_type": "code",
   "execution_count": 8,
   "metadata": {},
   "outputs": [
    {
     "data": {
      "text/plain": [
       "array([[ 0,  1,  2],\n",
       "       [ 3,  4,  5],\n",
       "       [ 6,  7,  8],\n",
       "       [ 9, 10, 11]])"
      ]
     },
     "execution_count": 8,
     "metadata": {},
     "output_type": "execute_result"
    }
   ],
   "source": [
    "# ----> fancy Indexing <----\n",
    "\n",
    "# create Array\n",
    "a = np.arange(12).reshape(4, 3)\n",
    "a\n"
   ]
  },
  {
   "cell_type": "code",
   "execution_count": 9,
   "metadata": {},
   "outputs": [
    {
     "data": {
      "text/plain": [
       "array([[ 0,  1,  2],\n",
       "       [ 6,  7,  8],\n",
       "       [ 9, 10, 11]])"
      ]
     },
     "execution_count": 9,
     "metadata": {},
     "output_type": "execute_result"
    }
   ],
   "source": [
    "'''Extract 1st,3rd and 4th row -> not possible in normal indexing'''\n",
    "a[[0, 2, 3]]    # provide a list and write number of rows like 0th, 2nd and 3rd row\n"
   ]
  },
  {
   "cell_type": "code",
   "execution_count": 11,
   "metadata": {},
   "outputs": [
    {
     "data": {
      "text/plain": [
       "array([[ 1,  2],\n",
       "       [ 4,  5],\n",
       "       [ 7,  8],\n",
       "       [10, 11]])"
      ]
     },
     "execution_count": 11,
     "metadata": {},
     "output_type": "execute_result"
    }
   ],
   "source": [
    "''' Extract 2nd and 3rd colon'''\n",
    "\n",
    "a[:, [1, 2]] # a[all rows :, [2nd col, 3rd col]]\n"
   ]
  },
  {
   "cell_type": "code",
   "execution_count": 12,
   "metadata": {},
   "outputs": [
    {
     "data": {
      "text/plain": [
       "array([[28, 36, 91, 79],\n",
       "       [30, 23, 21, 27],\n",
       "       [58,  4,  4, 40],\n",
       "       [68, 46, 67, 33],\n",
       "       [66, 93,  5, 12],\n",
       "       [12, 60, 59, 32]])"
      ]
     },
     "execution_count": 12,
     "metadata": {},
     "output_type": "execute_result"
    }
   ],
   "source": [
    "# ----> Boolean Indexing <----\n",
    "a = np.random.randint(1, 100, 24).reshape(6, 4)\n",
    "a\n"
   ]
  },
  {
   "cell_type": "code",
   "execution_count": 13,
   "metadata": {},
   "outputs": [
    {
     "data": {
      "text/plain": [
       "array([[False, False,  True,  True],\n",
       "       [False, False, False, False],\n",
       "       [ True, False, False, False],\n",
       "       [ True, False,  True, False],\n",
       "       [ True,  True, False, False],\n",
       "       [False,  True,  True, False]])"
      ]
     },
     "execution_count": 13,
     "metadata": {},
     "output_type": "execute_result"
    }
   ],
   "source": [
    "# find all numbers greater than 50\n",
    "a > 50\n"
   ]
  },
  {
   "cell_type": "code",
   "execution_count": 15,
   "metadata": {},
   "outputs": [
    {
     "data": {
      "text/plain": [
       "array([91, 79, 58, 68, 67, 66, 93, 60, 59])"
      ]
     },
     "execution_count": 15,
     "metadata": {},
     "output_type": "execute_result"
    }
   ],
   "source": [
    "# you are getting those number which are greater than 50\n",
    "a[a > 50]\n"
   ]
  },
  {
   "cell_type": "code",
   "execution_count": 16,
   "metadata": {},
   "outputs": [
    {
     "data": {
      "text/plain": [
       "array([[ True,  True, False, False],\n",
       "       [ True, False, False, False],\n",
       "       [ True,  True,  True,  True],\n",
       "       [ True,  True, False, False],\n",
       "       [ True, False, False,  True],\n",
       "       [ True,  True, False,  True]])"
      ]
     },
     "execution_count": 16,
     "metadata": {},
     "output_type": "execute_result"
    }
   ],
   "source": [
    "# find out even number\n",
    "\n",
    "a % 2 == 0\n"
   ]
  },
  {
   "cell_type": "code",
   "execution_count": 17,
   "metadata": {},
   "outputs": [
    {
     "data": {
      "text/plain": [
       "array([28, 36, 30, 58,  4,  4, 40, 68, 46, 66, 12, 12, 60, 32])"
      ]
     },
     "execution_count": 17,
     "metadata": {},
     "output_type": "execute_result"
    }
   ],
   "source": [
    "# all even numbers\n",
    "a[a % 2 == 0]\n"
   ]
  },
  {
   "cell_type": "code",
   "execution_count": 18,
   "metadata": {},
   "outputs": [
    {
     "data": {
      "text/plain": [
       "array([58, 68, 66, 60])"
      ]
     },
     "execution_count": 18,
     "metadata": {},
     "output_type": "execute_result"
    }
   ],
   "source": [
    "# find all numbers greater than 50 and are even\n",
    "\n",
    "a[(a > 50) & (a % 2 == 0)]\n"
   ]
  },
  {
   "cell_type": "markdown",
   "metadata": {},
   "source": [
    "### **<span style = 'color:brown'>Broadcasting</span>**\n",
    "The term broadcasting describe how NumPy treats arrays with different shapes during arithmetic operations.\n",
    "\n",
    "The smaller array is \"broadcast\" across the larger array so that they have compatible shapes."
   ]
  },
  {
   "cell_type": "code",
   "execution_count": 20,
   "metadata": {},
   "outputs": [
    {
     "name": "stdout",
     "output_type": "stream",
     "text": [
      "a:\n",
      " [[0 1 2]\n",
      " [3 4 5]]\n",
      "b:\n",
      " [[ 6  7  8]\n",
      " [ 9 10 11]]\n",
      "a + b :\n",
      " [[ 6  8 10]\n",
      " [12 14 16]]\n"
     ]
    }
   ],
   "source": [
    "# same shape\n",
    "a = np.arange(6).reshape(2, 3)\n",
    "b = np.arange(6, 12).reshape(2, 3)\n",
    "\n",
    "print('a:\\n', a)\n",
    "print('b:\\n', b)\n",
    "\n",
    "print('a + b :\\n', a + b)\n"
   ]
  },
  {
   "cell_type": "code",
   "execution_count": 21,
   "metadata": {},
   "outputs": [
    {
     "name": "stdout",
     "output_type": "stream",
     "text": [
      "a:\n",
      " [[0 1 2]\n",
      " [3 4 5]]\n",
      "b:\n",
      " [[0 1 2]]\n",
      "a + b :\n",
      " [[0 2 4]\n",
      " [3 5 7]]\n"
     ]
    }
   ],
   "source": [
    "# different shape\n",
    "\n",
    "a = np.arange(6).reshape(2, 3)\n",
    "b = np.arange(3).reshape(1, 3)\n",
    "\n",
    "print('a:\\n', a)\n",
    "print('b:\\n', b)\n",
    "\n",
    "print('a + b :\\n', a + b)\n"
   ]
  },
  {
   "cell_type": "markdown",
   "metadata": {},
   "source": [
    "## **<span style = 'color :#143F6B'>Broadcasting Rules </span>**\n",
    "\n",
    "**1. Make the two arrays have the same number of dimensions.**\n",
    "  - If the numbers of dimensions of the two arrays are different, add new dimensions with size 1 to the head of the size 1 to the head of the array with the smaller dimension.\n",
    "\n",
    "**2. Make each dimension of the two arrays the same size.**\n",
    "  - If the sizes of each dimensions of the two arrays do not match, dimensions with size 1 are streched to the size of the other array.\n",
    "  - If there is a dimension whose size is not 1 in either of the two arrays, it cannot be broadcasted, and an error is raised"
   ]
  },
  {
   "cell_type": "markdown",
   "metadata": {},
   "source": [
    "<img src = \"https://jakevdp.github.io/PythonDataScienceHandbook/figures/02.05-broadcasting.png\">"
   ]
  },
  {
   "cell_type": "code",
   "execution_count": 23,
   "metadata": {},
   "outputs": [
    {
     "name": "stdout",
     "output_type": "stream",
     "text": [
      "a:\n",
      " [[ 0  1  2]\n",
      " [ 3  4  5]\n",
      " [ 6  7  8]\n",
      " [ 9 10 11]]\n",
      "b:\n",
      " [0 1 2]\n",
      "a+b: \n",
      " [[ 0  2  4]\n",
      " [ 3  5  7]\n",
      " [ 6  8 10]\n",
      " [ 9 11 13]]\n"
     ]
    }
   ],
   "source": [
    "# more example\n",
    "\n",
    "a = np.arange(12).reshape(4, 3)\n",
    "b = np.arange(3)\n",
    "\n",
    "print('a:\\n', a)\n",
    "print('b:\\n', b)\n",
    "\n",
    "print('a+b: \\n', a + b)\n"
   ]
  },
  {
   "cell_type": "code",
   "execution_count": 24,
   "metadata": {},
   "outputs": [
    {
     "name": "stdout",
     "output_type": "stream",
     "text": [
      "a:\n",
      " [[ 0  1  2  3]\n",
      " [ 4  5  6  7]\n",
      " [ 8  9 10 11]]\n",
      "b:\n",
      " [0 1 2]\n"
     ]
    },
    {
     "ename": "ValueError",
     "evalue": "operands could not be broadcast together with shapes (3,4) (3,) ",
     "output_type": "error",
     "traceback": [
      "\u001b[1;31m---------------------------------------------------------------------------\u001b[0m",
      "\u001b[1;31mValueError\u001b[0m                                Traceback (most recent call last)",
      "\u001b[1;32mc:\\Users\\dhanr\\Desktop\\DS\\Numpy\\All_in_one_Numpy\\.ipynb_checkpoints\\Advance_Numpy.ipynb Cell 26\u001b[0m in \u001b[0;36m<cell line: 8>\u001b[1;34m()\u001b[0m\n\u001b[0;32m      <a href='vscode-notebook-cell:/c%3A/Users/dhanr/Desktop/DS/Numpy/All_in_one_Numpy/.ipynb_checkpoints/Advance_Numpy.ipynb#X35sZmlsZQ%3D%3D?line=4'>5</a>\u001b[0m \u001b[39mprint\u001b[39m(\u001b[39m'\u001b[39m\u001b[39ma:\u001b[39m\u001b[39m\\n\u001b[39;00m\u001b[39m'\u001b[39m, a)\n\u001b[0;32m      <a href='vscode-notebook-cell:/c%3A/Users/dhanr/Desktop/DS/Numpy/All_in_one_Numpy/.ipynb_checkpoints/Advance_Numpy.ipynb#X35sZmlsZQ%3D%3D?line=5'>6</a>\u001b[0m \u001b[39mprint\u001b[39m(\u001b[39m'\u001b[39m\u001b[39mb:\u001b[39m\u001b[39m\\n\u001b[39;00m\u001b[39m'\u001b[39m, b)\n\u001b[1;32m----> <a href='vscode-notebook-cell:/c%3A/Users/dhanr/Desktop/DS/Numpy/All_in_one_Numpy/.ipynb_checkpoints/Advance_Numpy.ipynb#X35sZmlsZQ%3D%3D?line=7'>8</a>\u001b[0m \u001b[39mprint\u001b[39m(\u001b[39m'\u001b[39m\u001b[39ma+b: \u001b[39m\u001b[39m\\n\u001b[39;00m\u001b[39m'\u001b[39m, a \u001b[39m+\u001b[39;49m b)\n",
      "\u001b[1;31mValueError\u001b[0m: operands could not be broadcast together with shapes (3,4) (3,) "
     ]
    }
   ],
   "source": [
    "# Error - > read rules \n",
    "a = np.arange(12).reshape(3, 4)\n",
    "b = np.arange(3)\n",
    "\n",
    "print('a:\\n', a)\n",
    "print('b:\\n', b)\n",
    "\n",
    "print('a+b: \\n', a + b)\n"
   ]
  },
  {
   "cell_type": "code",
   "execution_count": 25,
   "metadata": {},
   "outputs": [
    {
     "name": "stdout",
     "output_type": "stream",
     "text": [
      "a:\n",
      " [[0 1 2]]\n",
      "b:\n",
      " [[0]\n",
      " [1]\n",
      " [2]]\n",
      "a+b: \n",
      " [[0 1 2]\n",
      " [1 2 3]\n",
      " [2 3 4]]\n"
     ]
    }
   ],
   "source": [
    "# example\n",
    "a = np.arange(3).reshape(1, 3)\n",
    "b = np.arange(3).reshape(3, 1)\n",
    "\n",
    "print('a:\\n', a)\n",
    "print('b:\\n', b)\n",
    "\n",
    "print('a+b: \\n', a + b)\n"
   ]
  },
  {
   "cell_type": "code",
   "execution_count": 26,
   "metadata": {},
   "outputs": [
    {
     "name": "stdout",
     "output_type": "stream",
     "text": [
      "a:\n",
      " [[0 1 2]]\n",
      "b:\n",
      " [[0]\n",
      " [1]\n",
      " [2]\n",
      " [3]]\n",
      "a+b: \n",
      " [[0 1 2]\n",
      " [1 2 3]\n",
      " [2 3 4]\n",
      " [3 4 5]]\n"
     ]
    }
   ],
   "source": [
    "# example\n",
    "a = np.arange(3).reshape(1, 3)\n",
    "b = np.arange(4).reshape(4, 1)\n",
    "\n",
    "print('a:\\n', a)\n",
    "print('b:\\n', b)\n",
    "\n",
    "print('a+b: \\n', a + b)\n"
   ]
  },
  {
   "cell_type": "code",
   "execution_count": 27,
   "metadata": {},
   "outputs": [
    {
     "name": "stdout",
     "output_type": "stream",
     "text": [
      "a: \n",
      ", [1]\n",
      "b: \n",
      " [[0 1]\n",
      " [2 3]]\n",
      "a + b:\n",
      " [[1 2]\n",
      " [3 4]]\n"
     ]
    }
   ],
   "source": [
    "# example\n",
    "\n",
    "a = np.array([1])\n",
    "# shape -> (1,1)\n",
    "\n",
    "b = np.arange(4).reshape(2, 2)\n",
    "# shape -> (2,2)\n",
    "\n",
    "print('a: \\n,', a)\n",
    "print('b: \\n', b)\n",
    "\n",
    "print('a + b:\\n', a + b)\n"
   ]
  },
  {
   "cell_type": "code",
   "execution_count": 29,
   "metadata": {},
   "outputs": [
    {
     "name": "stdout",
     "output_type": "stream",
     "text": [
      "a: \n",
      ", [[ 0  1  2  3]\n",
      " [ 4  5  6  7]\n",
      " [ 8  9 10 11]\n",
      " [12 13 14 15]]\n",
      "b: \n",
      " [[0 1]\n",
      " [2 3]]\n"
     ]
    },
    {
     "ename": "ValueError",
     "evalue": "operands could not be broadcast together with shapes (4,4) (2,2) ",
     "output_type": "error",
     "traceback": [
      "\u001b[1;31m---------------------------------------------------------------------------\u001b[0m",
      "\u001b[1;31mValueError\u001b[0m                                Traceback (most recent call last)",
      "\u001b[1;32mc:\\Users\\dhanr\\Desktop\\DS\\Numpy\\All_in_one_Numpy\\.ipynb_checkpoints\\Advance_Numpy.ipynb Cell 30\u001b[0m in \u001b[0;36m<cell line: 9>\u001b[1;34m()\u001b[0m\n\u001b[0;32m      <a href='vscode-notebook-cell:/c%3A/Users/dhanr/Desktop/DS/Numpy/All_in_one_Numpy/.ipynb_checkpoints/Advance_Numpy.ipynb#X42sZmlsZQ%3D%3D?line=5'>6</a>\u001b[0m \u001b[39mprint\u001b[39m(\u001b[39m'\u001b[39m\u001b[39ma: \u001b[39m\u001b[39m\\n\u001b[39;00m\u001b[39m,\u001b[39m\u001b[39m'\u001b[39m, a)\n\u001b[0;32m      <a href='vscode-notebook-cell:/c%3A/Users/dhanr/Desktop/DS/Numpy/All_in_one_Numpy/.ipynb_checkpoints/Advance_Numpy.ipynb#X42sZmlsZQ%3D%3D?line=6'>7</a>\u001b[0m \u001b[39mprint\u001b[39m(\u001b[39m'\u001b[39m\u001b[39mb: \u001b[39m\u001b[39m\\n\u001b[39;00m\u001b[39m'\u001b[39m, b)\n\u001b[1;32m----> <a href='vscode-notebook-cell:/c%3A/Users/dhanr/Desktop/DS/Numpy/All_in_one_Numpy/.ipynb_checkpoints/Advance_Numpy.ipynb#X42sZmlsZQ%3D%3D?line=8'>9</a>\u001b[0m \u001b[39mprint\u001b[39m(\u001b[39m'\u001b[39m\u001b[39ma + b:\u001b[39m\u001b[39m\\n\u001b[39;00m\u001b[39m'\u001b[39m, a \u001b[39m+\u001b[39;49m b)\n",
      "\u001b[1;31mValueError\u001b[0m: operands could not be broadcast together with shapes (4,4) (2,2) "
     ]
    }
   ],
   "source": [
    "#  error - > read rules -> increase dimension from 1 \n",
    "\n",
    "a = np.arange(16).reshape(4, 4)\n",
    "b = np.arange(4).reshape(2, 2)\n",
    "\n",
    "print('a: \\n,', a)\n",
    "print('b: \\n', b)\n",
    "\n",
    "print('a + b:\\n', a + b)\n"
   ]
  },
  {
   "cell_type": "markdown",
   "metadata": {},
   "source": [
    "### **<span style = 'color : #F37121 '>Working with mathematical formulas</span>**"
   ]
  },
  {
   "cell_type": "code",
   "execution_count": 34,
   "metadata": {},
   "outputs": [
    {
     "data": {
      "text/plain": [
       "array([0.5       , 0.73105858, 0.88079708, 0.95257413, 0.98201379,\n",
       "       0.99330715, 0.99752738, 0.99908895, 0.99966465, 0.99987661])"
      ]
     },
     "execution_count": 34,
     "metadata": {},
     "output_type": "execute_result"
    }
   ],
   "source": [
    "# sigmoid\n",
    "def sigmoid(array):\n",
    "    return 1/(1 + np.exp(-(array)))\n",
    "\n",
    "\n",
    "a = np.arange(10)\n",
    "sigmoid(a)\n"
   ]
  },
  {
   "cell_type": "code",
   "execution_count": 35,
   "metadata": {},
   "outputs": [
    {
     "name": "stdout",
     "output_type": "stream",
     "text": [
      "actual : [35 20 31 12 19 18  3  1 21 17 18 16 38  5 35 43 49 17 29 36 30 34  4 27\n",
      " 36]\n",
      "predicted : [ 9 18 14 39 49 26 49 31 24 29 17 16 29 32 39 20  2 49  6 31 15 36 12 14\n",
      " 30]\n"
     ]
    }
   ],
   "source": [
    "# mean squared error\n",
    "actual = np.random.randint(1, 50, 25)\n",
    "predicted = np.random.randint(1, 50, 25)\n",
    "\n",
    "print('actual :', actual)\n",
    "print('predicted :', predicted)\n"
   ]
  },
  {
   "cell_type": "code",
   "execution_count": 36,
   "metadata": {},
   "outputs": [
    {
     "data": {
      "text/plain": [
       "458.88"
      ]
     },
     "execution_count": 36,
     "metadata": {},
     "output_type": "execute_result"
    }
   ],
   "source": [
    "def mse(actual, predicted):\n",
    "    return np.mean((actual-predicted)**2)\n",
    "\n",
    "\n",
    "mse(actual, predicted)\n"
   ]
  },
  {
   "cell_type": "code",
   "execution_count": 37,
   "metadata": {},
   "outputs": [
    {
     "data": {
      "text/plain": [
       "458.88"
      ]
     },
     "execution_count": 37,
     "metadata": {},
     "output_type": "execute_result"
    }
   ],
   "source": [
    "# categorical cross entropy\n",
    "np.mean((actual - predicted)**2)\n"
   ]
  },
  {
   "cell_type": "markdown",
   "metadata": {},
   "source": [
    "### **<span style = 'color : #3E001F'> Working with missing values</span>**"
   ]
  },
  {
   "cell_type": "code",
   "execution_count": 43,
   "metadata": {},
   "outputs": [
    {
     "name": "stdout",
     "output_type": "stream",
     "text": [
      "[ 1.  2.  3.  4. nan  6.]\n",
      "[False False False False  True False]\n"
     ]
    },
    {
     "data": {
      "text/plain": [
       "array([1., 2., 3., 4., 6.])"
      ]
     },
     "execution_count": 43,
     "metadata": {},
     "output_type": "execute_result"
    }
   ],
   "source": [
    "# working with missing values -> np.nan\n",
    "a = np.array([1, 2, 3, 4, np.nan, 6])\n",
    "print(a)\n",
    "\n",
    "print(np.isnan(a))\n",
    "\n",
    "a[~np.isnan(a)]\n"
   ]
  },
  {
   "cell_type": "markdown",
   "metadata": {},
   "source": [
    "### **<span style = 'color : #0D7377'>Meshgrid</span>**"
   ]
  },
  {
   "cell_type": "code",
   "execution_count": 49,
   "metadata": {},
   "outputs": [
    {
     "name": "stdout",
     "output_type": "stream",
     "text": [
      "before meshgrid x:  [ 0  1  2  3  4  5  6  7  8  9 10 11 12 13 14 15 16 17 18 19 20 21 22 23\n",
      " 24 25 26 27 28 29 30 31 32 33 34 35 36 37 38 39 40 41 42 43 44 45 46 47\n",
      " 48 49]\n",
      "before meshgrid y:  [ 0  1  2  3  4  5  6  7  8  9 10 11 12 13 14 15 16 17 18 19 20 21 22 23\n",
      " 24 25 26 27 28 29 30 31 32 33 34 35 36 37 38 39 40 41 42 43 44 45 46 47\n",
      " 48 49 50 51 52 53 54 55 56 57 58 59 60 61 62 63 64 65 66 67 68 69 70 71\n",
      " 72 73 74 75 76 77 78 79 80 81 82 83 84 85 86 87 88 89 90 91 92 93 94 95\n",
      " 96 97 98 99]\n",
      "after meshgrid x: \n",
      " [[ 0  1  2 ... 47 48 49]\n",
      " [ 0  1  2 ... 47 48 49]\n",
      " [ 0  1  2 ... 47 48 49]\n",
      " ...\n",
      " [ 0  1  2 ... 47 48 49]\n",
      " [ 0  1  2 ... 47 48 49]\n",
      " [ 0  1  2 ... 47 48 49]]\n",
      "after meshgrid y: \n",
      " [[ 0  0  0 ...  0  0  0]\n",
      " [ 1  1  1 ...  1  1  1]\n",
      " [ 2  2  2 ...  2  2  2]\n",
      " ...\n",
      " [97 97 97 ... 97 97 97]\n",
      " [98 98 98 ... 98 98 98]\n",
      " [99 99 99 ... 99 99 99]]\n"
     ]
    }
   ],
   "source": [
    "\n",
    "x = np.arange(0, 50)\n",
    "y = np.arange(0, 100)\n",
    "\n",
    "print('before meshgrid x: ', x)\n",
    "print('before meshgrid y: ', y)\n",
    "\n",
    "x, y = np.meshgrid(x, y)\n",
    "\n",
    "print('after meshgrid x: \\n', x)\n",
    "print('after meshgrid y: \\n', y)\n"
   ]
  },
  {
   "cell_type": "code",
   "execution_count": 55,
   "metadata": {},
   "outputs": [
    {
     "data": {
      "image/png": "[encoded data removed]",
      "text/plain": [
       "<Figure size 720x432 with 1 Axes>"
      ]
     },
     "metadata": {},
     "output_type": "display_data"
    }
   ],
   "source": [
    "import matplotlib.pyplot as plt\n",
    "\n",
    "z = np.sqrt(x**2 + y)\n",
    "\n",
    "fig = plt.figure(figsize=(10, 6))\n",
    "ax = fig.add_subplot(111, projection='3d')\n",
    "ax.plot_surface(x, y, z)\n",
    "plt.show()\n"
   ]
  },
  {
   "cell_type": "code",
   "execution_count": null,
   "metadata": {},
   "outputs": [],
   "source": []
  }
 ],
 "metadata": {
  "kernelspec": {
   "display_name": "base",
   "language": "python",
   "name": "python3"
  },
  "language_info": {
   "codemirror_mode": {
    "name": "ipython",
    "version": 3
   },
   "file_extension": ".py",
   "mimetype": "text/x-python",
   "name": "python",
   "nbconvert_exporter": "python",
   "pygments_lexer": "ipython3",
   "version": "3.9.12"
  },
  "orig_nbformat": 4
 },
 "nbformat": 4,
 "nbformat_minor": 2
}
