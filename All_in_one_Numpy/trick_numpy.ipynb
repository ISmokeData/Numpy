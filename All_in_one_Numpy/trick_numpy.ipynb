{
 "cells": [
  {
   "cell_type": "markdown",
   "metadata": {},
   "source": [
    "# **<span style = 'color: seagreen'>NumPy Tricks</span>**"
   ]
  },
  {
   "cell_type": "markdown",
   "metadata": {},
   "source": [
    "### **np.sort**"
   ]
  },
  {
   "cell_type": "code",
   "execution_count": 54,
   "metadata": {},
   "outputs": [
    {
     "name": "stdout",
     "output_type": "stream",
     "text": [
      "a: [86 96 63 51 48 21 96 80 57 51 45 86  5 71 15]\n",
      "b: \n",
      " [[67 39 68 79]\n",
      " [92 23 34 95]\n",
      " [49 13 99 75]\n",
      " [58 79 12 85]\n",
      " [42 84 17 40]\n",
      " [92 60 22 95]]\n"
     ]
    }
   ],
   "source": [
    "# code\n",
    "import numpy as np\n",
    "a = np.random.randint(1, 100, 15)\n",
    "b = np.random.randint(1, 100, 24).reshape(6, 4)\n",
    "\n",
    "print('a:', a)\n",
    "print('b: \\n', b)\n"
   ]
  },
  {
   "cell_type": "code",
   "execution_count": 2,
   "metadata": {},
   "outputs": [
    {
     "data": {
      "text/plain": [
       "array([ 5,  6,  8, 11, 25, 28, 29, 39, 44, 50, 51, 61, 68, 74, 78])"
      ]
     },
     "execution_count": 2,
     "metadata": {},
     "output_type": "execute_result"
    }
   ],
   "source": [
    "np.sort(a)\n"
   ]
  },
  {
   "cell_type": "code",
   "execution_count": 3,
   "metadata": {},
   "outputs": [
    {
     "data": {
      "text/plain": [
       "array([[ 2,  9, 59, 61],\n",
       "       [ 7, 27, 27, 55],\n",
       "       [31, 86, 89, 95],\n",
       "       [ 5, 33, 71, 78],\n",
       "       [ 4, 15, 37, 41],\n",
       "       [ 4, 31, 43, 92]])"
      ]
     },
     "execution_count": 3,
     "metadata": {},
     "output_type": "execute_result"
    }
   ],
   "source": [
    "# sort rows\n",
    "np.sort(b)\n"
   ]
  },
  {
   "cell_type": "code",
   "execution_count": 5,
   "metadata": {},
   "outputs": [
    {
     "data": {
      "text/plain": [
       "array([[ 2, 27,  4,  4],\n",
       "       [33, 41,  9,  5],\n",
       "       [37, 43, 27,  7],\n",
       "       [55, 59, 31, 15],\n",
       "       [86, 78, 31, 61],\n",
       "       [92, 89, 71, 95]])"
      ]
     },
     "execution_count": 5,
     "metadata": {},
     "output_type": "execute_result"
    }
   ],
   "source": [
    "# sort columns\n",
    "np.sort(b, axis=0)\n"
   ]
  },
  {
   "cell_type": "code",
   "execution_count": 6,
   "metadata": {},
   "outputs": [
    {
     "data": {
      "text/plain": [
       "array([78, 74, 68, 61, 51, 50, 44, 39, 29, 28, 25, 11,  8,  6,  5])"
      ]
     },
     "execution_count": 6,
     "metadata": {},
     "output_type": "execute_result"
    }
   ],
   "source": [
    "# sort in descending order\n",
    "np.sort(a)[::-1]\n"
   ]
  },
  {
   "cell_type": "markdown",
   "metadata": {},
   "source": [
    "### **<span style = 'color:#810CA8'>np.append</span>**\n",
    "The numpy.append() append values along the mentioned axis at the end of the array"
   ]
  },
  {
   "cell_type": "code",
   "execution_count": 7,
   "metadata": {},
   "outputs": [
    {
     "data": {
      "text/plain": [
       "array([ 78,  28,  29,  25,   5,  68,  74,   6,  39,  61,   8,  11,  51,\n",
       "        44,  50, 200])"
      ]
     },
     "execution_count": 7,
     "metadata": {},
     "output_type": "execute_result"
    }
   ],
   "source": [
    "# code\n",
    "np.append(a, 200)\n"
   ]
  },
  {
   "cell_type": "code",
   "execution_count": 9,
   "metadata": {},
   "outputs": [
    {
     "data": {
      "text/plain": [
       "array([[ 2.        , 59.        ,  9.        , 61.        ,  0.67190434],\n",
       "       [55.        , 27.        , 27.        ,  7.        ,  0.46483624],\n",
       "       [86.        , 89.        , 31.        , 95.        ,  0.83888643],\n",
       "       [33.        , 78.        , 71.        ,  5.        ,  0.78224179],\n",
       "       [37.        , 41.        ,  4.        , 15.        ,  0.81836621],\n",
       "       [92.        , 43.        , 31.        ,  4.        ,  0.21444818]])"
      ]
     },
     "execution_count": 9,
     "metadata": {},
     "output_type": "execute_result"
    }
   ],
   "source": [
    "np.append(b, np.random.random((b.shape[0], 1)), axis=1)\n"
   ]
  },
  {
   "cell_type": "markdown",
   "metadata": {},
   "source": [
    "### **<span style = 'color : #FB2576'>np.concatenate</span>**\n",
    "numpy.concatenate() function concatenate a sequence of arrays along an existing axis"
   ]
  },
  {
   "cell_type": "code",
   "execution_count": 10,
   "metadata": {},
   "outputs": [
    {
     "name": "stdout",
     "output_type": "stream",
     "text": [
      "c: \n",
      " [[0 1 2]\n",
      " [3 4 5]]\n",
      "d: \n",
      " [[ 6  7  8]\n",
      " [ 9 10 11]]\n"
     ]
    }
   ],
   "source": [
    "c = np.arange(6).reshape(2, 3)\n",
    "d = np.arange(6, 12).reshape(2, 3)\n",
    "\n",
    "print('c: \\n', c)\n",
    "print('d: \\n', d)\n"
   ]
  },
  {
   "cell_type": "code",
   "execution_count": 11,
   "metadata": {},
   "outputs": [
    {
     "data": {
      "text/plain": [
       "array([[ 0,  1,  2],\n",
       "       [ 3,  4,  5],\n",
       "       [ 6,  7,  8],\n",
       "       [ 9, 10, 11]])"
      ]
     },
     "execution_count": 11,
     "metadata": {},
     "output_type": "execute_result"
    }
   ],
   "source": [
    "# concatenate -> row\n",
    "np.concatenate((c, d), axis=0)\n"
   ]
  },
  {
   "cell_type": "code",
   "execution_count": 12,
   "metadata": {},
   "outputs": [
    {
     "data": {
      "text/plain": [
       "array([[ 0,  1,  2,  6,  7,  8],\n",
       "       [ 3,  4,  5,  9, 10, 11]])"
      ]
     },
     "execution_count": 12,
     "metadata": {},
     "output_type": "execute_result"
    }
   ],
   "source": [
    "# concatenate -> column\n",
    "np.concatenate((c, d), axis=1)\n"
   ]
  },
  {
   "cell_type": "markdown",
   "metadata": {},
   "source": [
    "### **<span style = 'color:#ED5107'>np.unique</span>**\n",
    "With the help of np.unique() method, we can get the unique values from an array given as paramerter in np.unique() method."
   ]
  },
  {
   "cell_type": "code",
   "execution_count": 14,
   "metadata": {},
   "outputs": [
    {
     "name": "stdout",
     "output_type": "stream",
     "text": [
      "e:  [1 1 2 2 3 3 4 4 5 5 6 6]\n",
      "f:\n",
      " [[1 2 3 1]\n",
      " [1 2 3 2]]\n"
     ]
    }
   ],
   "source": [
    "# code\n",
    "e = np.array([1, 1, 2, 2, 3, 3, 4, 4, 5, 5, 6, 6])\n",
    "f = np.array([[1, 2, 3, 1], [1, 2, 3, 2]])\n",
    "\n",
    "print('e: ', e)\n",
    "print('f:\\n', f)\n"
   ]
  },
  {
   "cell_type": "code",
   "execution_count": 16,
   "metadata": {},
   "outputs": [
    {
     "data": {
      "text/plain": [
       "array([1, 2, 3, 4, 5, 6])"
      ]
     },
     "execution_count": 16,
     "metadata": {},
     "output_type": "execute_result"
    }
   ],
   "source": [
    "np.unique(e)\n"
   ]
  },
  {
   "cell_type": "markdown",
   "metadata": {},
   "source": [
    "### **<span style = 'color:#87431D'>np.expand_dims</span>**\n",
    "with the help of numpy.expand_dim() method, we can get the expanded dimensions of an array"
   ]
  },
  {
   "cell_type": "code",
   "execution_count": 17,
   "metadata": {},
   "outputs": [
    {
     "data": {
      "text/plain": [
       "array([[78],\n",
       "       [28],\n",
       "       [29],\n",
       "       [25],\n",
       "       [ 5],\n",
       "       [68],\n",
       "       [74],\n",
       "       [ 6],\n",
       "       [39],\n",
       "       [61],\n",
       "       [ 8],\n",
       "       [11],\n",
       "       [51],\n",
       "       [44],\n",
       "       [50]])"
      ]
     },
     "execution_count": 17,
     "metadata": {},
     "output_type": "execute_result"
    }
   ],
   "source": [
    "# code\n",
    "np.expand_dims(a, axis=1)\n"
   ]
  },
  {
   "cell_type": "code",
   "execution_count": 18,
   "metadata": {},
   "outputs": [
    {
     "data": {
      "text/plain": [
       "array([[78, 28, 29, 25,  5, 68, 74,  6, 39, 61,  8, 11, 51, 44, 50]])"
      ]
     },
     "execution_count": 18,
     "metadata": {},
     "output_type": "execute_result"
    }
   ],
   "source": [
    "np.expand_dims(a, axis=0)\n"
   ]
  },
  {
   "cell_type": "markdown",
   "metadata": {},
   "source": [
    "### **np.where**\n",
    "The np.where() function returns the indices of elements in an input array where the given condition is satisfied."
   ]
  },
  {
   "cell_type": "code",
   "execution_count": 19,
   "metadata": {},
   "outputs": [
    {
     "data": {
      "text/plain": [
       "(array([ 0,  5,  6,  9, 12], dtype=int64),)"
      ]
     },
     "execution_count": 19,
     "metadata": {},
     "output_type": "execute_result"
    }
   ],
   "source": [
    "np.where(a > 50) #index position\n"
   ]
  },
  {
   "cell_type": "code",
   "execution_count": 20,
   "metadata": {},
   "outputs": [
    {
     "data": {
      "text/plain": [
       "array([ 0, 28, 29, 25,  5,  0,  0,  6, 39,  0,  8, 11,  0, 44, 50])"
      ]
     },
     "execution_count": 20,
     "metadata": {},
     "output_type": "execute_result"
    }
   ],
   "source": [
    "# replace all values > 50 with 0\n",
    "np.where(a > 50, 0, a)\n"
   ]
  },
  {
   "cell_type": "code",
   "execution_count": 21,
   "metadata": {},
   "outputs": [
    {
     "data": {
      "text/plain": [
       "array([ 0,  0, 29, 25,  5,  0,  0,  0, 39, 61,  0, 11, 51,  0,  0])"
      ]
     },
     "execution_count": 21,
     "metadata": {},
     "output_type": "execute_result"
    }
   ],
   "source": [
    "# all even number replace with 0\n",
    "np.where(a % 2 == 0, 0, a)\n"
   ]
  },
  {
   "cell_type": "markdown",
   "metadata": {},
   "source": [
    "### **np.argmax**\n",
    "The np.argmax() function returns indices of the max element of the array in a particular axis."
   ]
  },
  {
   "cell_type": "code",
   "execution_count": 26,
   "metadata": {},
   "outputs": [
    {
     "name": "stdout",
     "output_type": "stream",
     "text": [
      "[34  4 62 12 22 71 20 73 33 85 96 67 85 13 43]\n"
     ]
    },
    {
     "data": {
      "text/plain": [
       "10"
      ]
     },
     "execution_count": 26,
     "metadata": {},
     "output_type": "execute_result"
    }
   ],
   "source": [
    "print(a)\n",
    "np.argmax(a)\n"
   ]
  },
  {
   "cell_type": "code",
   "execution_count": 28,
   "metadata": {},
   "outputs": [
    {
     "name": "stdout",
     "output_type": "stream",
     "text": [
      "[[33 70 35  9]\n",
      " [91 91 13 88]\n",
      " [72 11 61 54]\n",
      " [20 47 57 35]\n",
      " [87 83 27 20]\n",
      " [34 53 33 58]]\n"
     ]
    },
    {
     "data": {
      "text/plain": [
       "array([1, 0, 0, 2, 0, 3], dtype=int64)"
      ]
     },
     "execution_count": 28,
     "metadata": {},
     "output_type": "execute_result"
    }
   ],
   "source": [
    "# row -> max value index\n",
    "print(b)\n",
    "np.argmax(b, axis=1)\n"
   ]
  },
  {
   "cell_type": "code",
   "execution_count": 29,
   "metadata": {},
   "outputs": [
    {
     "data": {
      "text/plain": [
       "array([1, 1, 2, 1], dtype=int64)"
      ]
     },
     "execution_count": 29,
     "metadata": {},
     "output_type": "execute_result"
    }
   ],
   "source": [
    "# column -> max value index\n",
    "np.argmax(b, axis=0)\n"
   ]
  },
  {
   "cell_type": "code",
   "execution_count": 31,
   "metadata": {},
   "outputs": [
    {
     "name": "stdout",
     "output_type": "stream",
     "text": [
      "[34  4 62 12 22 71 20 73 33 85 96 67 85 13 43]\n"
     ]
    },
    {
     "data": {
      "text/plain": [
       "1"
      ]
     },
     "execution_count": 31,
     "metadata": {},
     "output_type": "execute_result"
    }
   ],
   "source": [
    "# np.argmin\n",
    "print(a)\n",
    "np.argmin(a)\n"
   ]
  },
  {
   "cell_type": "markdown",
   "metadata": {},
   "source": [
    "### **np.cumsum**\n",
    "np.cumsum() function is used when we want to compute the comulative sum of array elements over a given axis."
   ]
  },
  {
   "cell_type": "code",
   "execution_count": 33,
   "metadata": {},
   "outputs": [
    {
     "name": "stdout",
     "output_type": "stream",
     "text": [
      "[34  4 62 12 22 71 20 73 33 85 96 67 85 13 43]\n"
     ]
    },
    {
     "data": {
      "text/plain": [
       "array([ 34,  38, 100, 112, 134, 205, 225, 298, 331, 416, 512, 579, 664,\n",
       "       677, 720], dtype=int32)"
      ]
     },
     "execution_count": 33,
     "metadata": {},
     "output_type": "execute_result"
    }
   ],
   "source": [
    "# 34, 34+4= 38, 38+62=100, 100+12 = 112,...\n",
    "print(a)\n",
    "np.cumsum(a)\n"
   ]
  },
  {
   "cell_type": "code",
   "execution_count": 34,
   "metadata": {},
   "outputs": [
    {
     "name": "stdout",
     "output_type": "stream",
     "text": [
      "b:\n",
      " [[33 70 35  9]\n",
      " [91 91 13 88]\n",
      " [72 11 61 54]\n",
      " [20 47 57 35]\n",
      " [87 83 27 20]\n",
      " [34 53 33 58]]\n"
     ]
    },
    {
     "data": {
      "text/plain": [
       "array([[ 33, 103, 138, 147],\n",
       "       [ 91, 182, 195, 283],\n",
       "       [ 72,  83, 144, 198],\n",
       "       [ 20,  67, 124, 159],\n",
       "       [ 87, 170, 197, 217],\n",
       "       [ 34,  87, 120, 178]], dtype=int32)"
      ]
     },
     "execution_count": 34,
     "metadata": {},
     "output_type": "execute_result"
    }
   ],
   "source": [
    "print('b:\\n', b)\n",
    "\n",
    "np.cumsum(b, axis=1)\n",
    "# add row vise -> \n",
    "'''[[33, 33+70=103, 103+35=138, 138+9=147]\n",
    "    [91, 91+91=182, 182+13=195, 195+88=283]\n",
    "    ...]\n",
    "'''"
   ]
  },
  {
   "cell_type": "code",
   "execution_count": 35,
   "metadata": {},
   "outputs": [
    {
     "name": "stdout",
     "output_type": "stream",
     "text": [
      "[34  4 62 12 22 71 20 73 33 85 96 67 85 13 43]\n"
     ]
    },
    {
     "data": {
      "text/plain": [
       "array([         34,         136,        8432,      101184,     2226048,\n",
       "         158049408, -1133979136, -1176098304,  -156538368,  -420859392,\n",
       "       -1747795968, -1138212864,  2036154368,   700203008,    43958272],\n",
       "      dtype=int32)"
      ]
     },
     "execution_count": 35,
     "metadata": {},
     "output_type": "execute_result"
    }
   ],
   "source": [
    "# np.cumprod\n",
    "print(a)\n",
    "np.cumprod(a)\n",
    "# [34, 34*4=136, ...]"
   ]
  },
  {
   "cell_type": "markdown",
   "metadata": {},
   "source": [
    "### **np.percentile()**\n",
    "np.percentile() function used to compute the nth percentile of the given data (array elements)along the specified axis."
   ]
  },
  {
   "cell_type": "code",
   "execution_count": 38,
   "metadata": {},
   "outputs": [
    {
     "name": "stdout",
     "output_type": "stream",
     "text": [
      "[34  4 62 12 22 71 20 73 33 85 96 67 85 13 43]\n",
      "96.0\n",
      "4.0\n",
      "43.0\n"
     ]
    }
   ],
   "source": [
    "print(a)\n",
    "\n",
    "print(np.percentile(a, 100))  # MAXIMUM\n",
    "\n",
    "print(np.percentile(a, 0))  # minimum\n",
    "\n",
    "print(np.percentile(a, 50))  # medimum\n"
   ]
  },
  {
   "cell_type": "markdown",
   "metadata": {},
   "source": [
    "### **np.histogram**\n",
    "numpy has a built-in numpy.histogram() function which represents the frequency of data distribution in the graphical form."
   ]
  },
  {
   "cell_type": "code",
   "execution_count": 39,
   "metadata": {},
   "outputs": [
    {
     "name": "stdout",
     "output_type": "stream",
     "text": [
      "[34  4 62 12 22 71 20 73 33 85 96 67 85 13 43]\n"
     ]
    },
    {
     "data": {
      "text/plain": [
       "(array([1, 4, 2, 1, 0, 2, 2, 2, 1], dtype=int64),\n",
       " array([  0,  10,  30,  40,  50,  60,  70,  80,  90, 100]))"
      ]
     },
     "execution_count": 39,
     "metadata": {},
     "output_type": "execute_result"
    }
   ],
   "source": [
    "# frequency count\n",
    "print(a)\n",
    "np.histogram(a, bins=[0, 10, 30, 40, 50, 60, 70, 80, 90, 100])\n"
   ]
  },
  {
   "cell_type": "markdown",
   "metadata": {},
   "source": [
    "### **np.corrcoef**\n",
    "Return Pearson product-moment correlation coefficients."
   ]
  },
  {
   "cell_type": "code",
   "execution_count": 40,
   "metadata": {},
   "outputs": [
    {
     "data": {
      "text/plain": [
       "array([[1.        , 0.25344572],\n",
       "       [0.25344572, 1.        ]])"
      ]
     },
     "execution_count": 40,
     "metadata": {},
     "output_type": "execute_result"
    }
   ],
   "source": [
    "salary = np.array([20000, 40000, 25000, 35000, 60000])\n",
    "experience = np.array([1, 3, 2, 4, 2])\n",
    "np.corrcoef(salary, experience)\n"
   ]
  },
  {
   "cell_type": "markdown",
   "metadata": {},
   "source": [
    "### **np.isin**"
   ]
  },
  {
   "cell_type": "code",
   "execution_count": 51,
   "metadata": {},
   "outputs": [
    {
     "name": "stdout",
     "output_type": "stream",
     "text": [
      "[34  4 62 12 22 71 20 73 33 85 96 67 85 13 43]\n"
     ]
    },
    {
     "data": {
      "text/plain": [
       "array([20, 96, 43])"
      ]
     },
     "execution_count": 51,
     "metadata": {},
     "output_type": "execute_result"
    }
   ],
   "source": [
    "# code\n",
    "print(a)\n",
    "\n",
    "item = [10, 20, 30, 40, 50, 96, 70, 80, 90, 43]\n",
    "\n",
    "a[np.isin(a, item)]\n"
   ]
  },
  {
   "cell_type": "markdown",
   "metadata": {},
   "source": [
    "### **np.flip**\n",
    "The np.flip() function reverses the order of array elements along the specified axis, preserving the shape of the array."
   ]
  },
  {
   "cell_type": "code",
   "execution_count": 52,
   "metadata": {},
   "outputs": [
    {
     "name": "stdout",
     "output_type": "stream",
     "text": [
      "[34  4 62 12 22 71 20 73 33 85 96 67 85 13 43]\n"
     ]
    },
    {
     "data": {
      "text/plain": [
       "array([43, 13, 85, 67, 96, 85, 33, 73, 20, 71, 22, 12, 62,  4, 34])"
      ]
     },
     "execution_count": 52,
     "metadata": {},
     "output_type": "execute_result"
    }
   ],
   "source": [
    "# code\n",
    "print(a)\n",
    "\n",
    "np.flip(a)\n"
   ]
  },
  {
   "cell_type": "code",
   "execution_count": 55,
   "metadata": {},
   "outputs": [
    {
     "name": "stdout",
     "output_type": "stream",
     "text": [
      "b: \n",
      " [[67 39 68 79]\n",
      " [92 23 34 95]\n",
      " [49 13 99 75]\n",
      " [58 79 12 85]\n",
      " [42 84 17 40]\n",
      " [92 60 22 95]]\n"
     ]
    },
    {
     "data": {
      "text/plain": [
       "array([[95, 22, 60, 92],\n",
       "       [40, 17, 84, 42],\n",
       "       [85, 12, 79, 58],\n",
       "       [75, 99, 13, 49],\n",
       "       [95, 34, 23, 92],\n",
       "       [79, 68, 39, 67]])"
      ]
     },
     "execution_count": 55,
     "metadata": {},
     "output_type": "execute_result"
    }
   ],
   "source": [
    "print('b: \\n', b)\n",
    "np.flip(b)\n",
    "# flip both row and col"
   ]
  },
  {
   "cell_type": "code",
   "execution_count": 56,
   "metadata": {},
   "outputs": [
    {
     "name": "stdout",
     "output_type": "stream",
     "text": [
      "b:\n",
      " [[67 39 68 79]\n",
      " [92 23 34 95]\n",
      " [49 13 99 75]\n",
      " [58 79 12 85]\n",
      " [42 84 17 40]\n",
      " [92 60 22 95]]\n"
     ]
    },
    {
     "data": {
      "text/plain": [
       "array([[79, 68, 39, 67],\n",
       "       [95, 34, 23, 92],\n",
       "       [75, 99, 13, 49],\n",
       "       [85, 12, 79, 58],\n",
       "       [40, 17, 84, 42],\n",
       "       [95, 22, 60, 92]])"
      ]
     },
     "execution_count": 56,
     "metadata": {},
     "output_type": "execute_result"
    }
   ],
   "source": [
    "# flip only row\n",
    "print('b:\\n', b)\n",
    "\n",
    "np.flip(b, axis=1)\n"
   ]
  },
  {
   "cell_type": "code",
   "execution_count": 57,
   "metadata": {},
   "outputs": [
    {
     "name": "stdout",
     "output_type": "stream",
     "text": [
      "b:\n",
      " [[67 39 68 79]\n",
      " [92 23 34 95]\n",
      " [49 13 99 75]\n",
      " [58 79 12 85]\n",
      " [42 84 17 40]\n",
      " [92 60 22 95]]\n"
     ]
    },
    {
     "data": {
      "text/plain": [
       "array([[92, 60, 22, 95],\n",
       "       [42, 84, 17, 40],\n",
       "       [58, 79, 12, 85],\n",
       "       [49, 13, 99, 75],\n",
       "       [92, 23, 34, 95],\n",
       "       [67, 39, 68, 79]])"
      ]
     },
     "execution_count": 57,
     "metadata": {},
     "output_type": "execute_result"
    }
   ],
   "source": [
    "# flip only col\n",
    "print('b:\\n', b)\n",
    "\n",
    "np.flip(b, axis=0)\n"
   ]
  },
  {
   "cell_type": "markdown",
   "metadata": {},
   "source": [
    "### **np.put**\n",
    "The np.put() function replaces specific elements of an array with given values of p_array. Array indexed works on flattened array."
   ]
  },
  {
   "cell_type": "code",
   "execution_count": 58,
   "metadata": {},
   "outputs": [
    {
     "name": "stdout",
     "output_type": "stream",
     "text": [
      " before change a: [86 96 63 51 48 21 96 80 57 51 45 86  5 71 15]\n",
      "after change a: [110 530  63  51  48  21  96  80  57  51  45  86   5  71  15]\n"
     ]
    }
   ],
   "source": [
    "print(' before change a:', a)\n",
    "\n",
    "np.put(a, [0, 1], [110, 530])\n",
    "\n",
    "print('after change a:', a)\n"
   ]
  },
  {
   "cell_type": "markdown",
   "metadata": {},
   "source": [
    "### **np.delete**\n",
    "The np.delete() function returns a new array with the deletion od sub-arrays along with the mentioned axis."
   ]
  },
  {
   "cell_type": "code",
   "execution_count": 60,
   "metadata": {},
   "outputs": [
    {
     "name": "stdout",
     "output_type": "stream",
     "text": [
      "before delete a: [110 530  63  51  48  21  96  80  57  51  45  86   5  71  15]\n"
     ]
    },
    {
     "data": {
      "text/plain": [
       "array([63, 51, 48, 21, 96, 80, 57, 51, 45, 86,  5, 71, 15])"
      ]
     },
     "execution_count": 60,
     "metadata": {},
     "output_type": "execute_result"
    }
   ],
   "source": [
    "# code\n",
    "print('before delete a:', a)\n",
    "\n",
    "np.delete(a, [0, 1])\n"
   ]
  },
  {
   "cell_type": "markdown",
   "metadata": {},
   "source": [
    "### **Set Function**\n",
    "- np.union1d\n",
    "- np.intersect1d\n",
    "- np.setdiff1d\n",
    "- np.setxor1d\n",
    "- np.in1d"
   ]
  },
  {
   "cell_type": "code",
   "execution_count": 61,
   "metadata": {},
   "outputs": [
    {
     "data": {
      "text/plain": [
       "array([1, 2, 3, 4, 5, 6, 7])"
      ]
     },
     "execution_count": 61,
     "metadata": {},
     "output_type": "execute_result"
    }
   ],
   "source": [
    "# np.union1d\n",
    "n = np.array([1, 2, 3, 4, 5])\n",
    "m = np.array([3, 4, 5, 6, 7])\n",
    "\n",
    "np.union1d(n, m)\n"
   ]
  },
  {
   "cell_type": "code",
   "execution_count": 62,
   "metadata": {},
   "outputs": [
    {
     "data": {
      "text/plain": [
       "array([3, 4, 5])"
      ]
     },
     "execution_count": 62,
     "metadata": {},
     "output_type": "execute_result"
    }
   ],
   "source": [
    "# np.intersect1d\n",
    "np.intersect1d(n, m)\n"
   ]
  },
  {
   "cell_type": "code",
   "execution_count": 63,
   "metadata": {},
   "outputs": [
    {
     "data": {
      "text/plain": [
       "array([1, 2])"
      ]
     },
     "execution_count": 63,
     "metadata": {},
     "output_type": "execute_result"
    }
   ],
   "source": [
    "# np.setdiff1d\n",
    "np.setdiff1d(n, m)\n"
   ]
  },
  {
   "cell_type": "code",
   "execution_count": 64,
   "metadata": {},
   "outputs": [
    {
     "data": {
      "text/plain": [
       "array([1, 2, 6, 7])"
      ]
     },
     "execution_count": 64,
     "metadata": {},
     "output_type": "execute_result"
    }
   ],
   "source": [
    "# setxor1d\n",
    "np.setxor1d(n, m)\n"
   ]
  },
  {
   "cell_type": "code",
   "execution_count": 67,
   "metadata": {},
   "outputs": [
    {
     "data": {
      "text/plain": [
       "array([5])"
      ]
     },
     "execution_count": 67,
     "metadata": {},
     "output_type": "execute_result"
    }
   ],
   "source": [
    "# np.in1d\n",
    "np.in1d(n, 5)\n"
   ]
  },
  {
   "cell_type": "code",
   "execution_count": 68,
   "metadata": {},
   "outputs": [
    {
     "data": {
      "text/plain": [
       "array([5])"
      ]
     },
     "execution_count": 68,
     "metadata": {},
     "output_type": "execute_result"
    }
   ],
   "source": [
    "n[np.in1d(n, 5)]\n"
   ]
  },
  {
   "cell_type": "markdown",
   "metadata": {},
   "source": [
    "### **np.clip**\n",
    "np.clip() function is used to clip (limit) the values in an array."
   ]
  },
  {
   "cell_type": "code",
   "execution_count": 70,
   "metadata": {},
   "outputs": [
    {
     "name": "stdout",
     "output_type": "stream",
     "text": [
      "a: [110 530  63  51  48  21  96  80  57  51  45  86   5  71  15]\n"
     ]
    },
    {
     "data": {
      "text/plain": [
       "array([80, 80, 63, 51, 48, 25, 80, 80, 57, 51, 45, 80, 25, 71, 25])"
      ]
     },
     "execution_count": 70,
     "metadata": {},
     "output_type": "execute_result"
    }
   ],
   "source": [
    "# code\n",
    "print('a:', a)\n",
    "\n",
    "np.clip(a, a_min=25, a_max=80)\n"
   ]
  },
  {
   "cell_type": "code",
   "execution_count": null,
   "metadata": {},
   "outputs": [],
   "source": []
  }
 ],
 "metadata": {
  "kernelspec": {
   "display_name": "base",
   "language": "python",
   "name": "python3"
  },
  "language_info": {
   "codemirror_mode": {
    "name": "ipython",
    "version": 3
   },
   "file_extension": ".py",
   "mimetype": "text/x-python",
   "name": "python",
   "nbconvert_exporter": "python",
   "pygments_lexer": "ipython3",
   "version": "3.9.12"
  },
  "orig_nbformat": 4
 },
 "nbformat": 4,
 "nbformat_minor": 2
}
